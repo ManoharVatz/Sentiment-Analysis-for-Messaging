{
  "nbformat": 4,
  "nbformat_minor": 0,
  "metadata": {
    "colab": {
      "name": "Sentiment_Analysis_for_Messaging.ipynb",
      "version": "0.3.2",
      "provenance": [],
      "collapsed_sections": []
    },
    "kernelspec": {
      "name": "python3",
      "display_name": "Python 3"
    }
  },
  "cells": [
    {
      "cell_type": "code",
      "metadata": {
        "id": "4cvrnHdnvddu",
        "colab_type": "code",
        "outputId": "2b73c723-11d7-4d9c-e492-01a4bd902a9c",
        "colab": {
          "base_uri": "https://localhost:8080/",
          "height": 34
        }
      },
      "source": [
        "#pip install pyspellchecker"
      ],
      "execution_count": 0,
      "outputs": [
        {
          "output_type": "stream",
          "text": [
            "Requirement already satisfied: pyspellchecker in /usr/local/lib/python3.6/dist-packages (0.4.0)\n"
          ],
          "name": "stdout"
        }
      ]
    },
    {
      "cell_type": "code",
      "metadata": {
        "id": "PD-7Vn7QW6wT",
        "colab_type": "code",
        "outputId": "79b3fd53-50f7-4d22-bcce-20fbc4d21fc8",
        "colab": {
          "base_uri": "https://localhost:8080/",
          "height": 34
        }
      },
      "source": [
        "#from google.colab import drive\n",
        "#drive.mount('/content/drive')"
      ],
      "execution_count": 0,
      "outputs": [
        {
          "output_type": "stream",
          "text": [
            "Drive already mounted at /content/drive; to attempt to forcibly remount, call drive.mount(\"/content/drive\", force_remount=True).\n"
          ],
          "name": "stdout"
        }
      ]
    },
    {
      "cell_type": "markdown",
      "metadata": {
        "id": "YPV-vnkRkI7W",
        "colab_type": "text"
      },
      "source": [
        "##Library Files"
      ]
    },
    {
      "cell_type": "code",
      "metadata": {
        "id": "wrPfH6dQZAXk",
        "colab_type": "code",
        "outputId": "ce997bc5-db6a-4497-9b1d-f2bccc6a0e59",
        "colab": {
          "base_uri": "https://localhost:8080/",
          "height": 51
        }
      },
      "source": [
        "import pandas\n",
        "import numpy\n",
        "import nltk\n",
        "import string\n",
        "from spellchecker import SpellChecker\n",
        "from nltk.corpus import stopwords\n",
        "nltk.download('stopwords')\n",
        "from sklearn.feature_extraction.text import TfidfVectorizer\n",
        "from sklearn.model_selection import train_test_split\n",
        "from sklearn.model_selection import train_test_split\n",
        "from sklearn.linear_model import LogisticRegression\n",
        "import matplotlib.pyplot as plt\n",
        "from sklearn import metrics\n",
        "from sklearn.metrics import average_precision_score, roc_curve, roc_auc_score, classification_report"
      ],
      "execution_count": 0,
      "outputs": [
        {
          "output_type": "stream",
          "text": [
            "[nltk_data] Downloading package stopwords to /root/nltk_data...\n",
            "[nltk_data]   Package stopwords is already up-to-date!\n"
          ],
          "name": "stdout"
        }
      ]
    },
    {
      "cell_type": "markdown",
      "metadata": {
        "id": "f-TxqncCkP_d",
        "colab_type": "text"
      },
      "source": [
        "##  Data Preparation"
      ]
    },
    {
      "cell_type": "code",
      "metadata": {
        "id": "k1Q6ozm1fO0v",
        "colab_type": "code",
        "colab": {}
      },
      "source": [
        "sentiment140_df = pandas.read_csv(\"/content/drive/My Drive/AWT/Dataset/Sentiment140/train.csv\", \n",
        "                 header=None, \n",
        "                 names=['target', 'ids', 'date', 'flag', 'user', 'text'],\n",
        "                 encoding='latin-1')"
      ],
      "execution_count": 0,
      "outputs": []
    },
    {
      "cell_type": "code",
      "metadata": {
        "id": "pbclqt0RhvkX",
        "colab_type": "code",
        "colab": {}
      },
      "source": [
        "sentiment140_df[\"target_bool\"] = numpy.where(sentiment140_df[\"target\"]>=2, 1,0)"
      ],
      "execution_count": 0,
      "outputs": []
    },
    {
      "cell_type": "code",
      "metadata": {
        "id": "-2gTCqzwjqca",
        "colab_type": "code",
        "outputId": "5c8c9a78-7ab9-495d-b3ef-a86d7bac0aa2",
        "colab": {
          "base_uri": "https://localhost:8080/",
          "height": 204
        }
      },
      "source": [
        "sentiment140_df[:5]"
      ],
      "execution_count": 0,
      "outputs": [
        {
          "output_type": "execute_result",
          "data": {
            "text/html": [
              "<div>\n",
              "<style scoped>\n",
              "    .dataframe tbody tr th:only-of-type {\n",
              "        vertical-align: middle;\n",
              "    }\n",
              "\n",
              "    .dataframe tbody tr th {\n",
              "        vertical-align: top;\n",
              "    }\n",
              "\n",
              "    .dataframe thead th {\n",
              "        text-align: right;\n",
              "    }\n",
              "</style>\n",
              "<table border=\"1\" class=\"dataframe\">\n",
              "  <thead>\n",
              "    <tr style=\"text-align: right;\">\n",
              "      <th></th>\n",
              "      <th>target</th>\n",
              "      <th>ids</th>\n",
              "      <th>date</th>\n",
              "      <th>flag</th>\n",
              "      <th>user</th>\n",
              "      <th>text</th>\n",
              "      <th>target_bool</th>\n",
              "    </tr>\n",
              "  </thead>\n",
              "  <tbody>\n",
              "    <tr>\n",
              "      <th>0</th>\n",
              "      <td>0</td>\n",
              "      <td>1467810369</td>\n",
              "      <td>Mon Apr 06 22:19:45 PDT 2009</td>\n",
              "      <td>NO_QUERY</td>\n",
              "      <td>_TheSpecialOne_</td>\n",
              "      <td>@switchfoot http://twitpic.com/2y1zl - Awww, t...</td>\n",
              "      <td>0</td>\n",
              "    </tr>\n",
              "    <tr>\n",
              "      <th>1</th>\n",
              "      <td>0</td>\n",
              "      <td>1467810672</td>\n",
              "      <td>Mon Apr 06 22:19:49 PDT 2009</td>\n",
              "      <td>NO_QUERY</td>\n",
              "      <td>scotthamilton</td>\n",
              "      <td>is upset that he can't update his Facebook by ...</td>\n",
              "      <td>0</td>\n",
              "    </tr>\n",
              "    <tr>\n",
              "      <th>2</th>\n",
              "      <td>0</td>\n",
              "      <td>1467810917</td>\n",
              "      <td>Mon Apr 06 22:19:53 PDT 2009</td>\n",
              "      <td>NO_QUERY</td>\n",
              "      <td>mattycus</td>\n",
              "      <td>@Kenichan I dived many times for the ball. Man...</td>\n",
              "      <td>0</td>\n",
              "    </tr>\n",
              "    <tr>\n",
              "      <th>3</th>\n",
              "      <td>0</td>\n",
              "      <td>1467811184</td>\n",
              "      <td>Mon Apr 06 22:19:57 PDT 2009</td>\n",
              "      <td>NO_QUERY</td>\n",
              "      <td>ElleCTF</td>\n",
              "      <td>my whole body feels itchy and like its on fire</td>\n",
              "      <td>0</td>\n",
              "    </tr>\n",
              "    <tr>\n",
              "      <th>4</th>\n",
              "      <td>0</td>\n",
              "      <td>1467811193</td>\n",
              "      <td>Mon Apr 06 22:19:57 PDT 2009</td>\n",
              "      <td>NO_QUERY</td>\n",
              "      <td>Karoli</td>\n",
              "      <td>@nationwideclass no, it's not behaving at all....</td>\n",
              "      <td>0</td>\n",
              "    </tr>\n",
              "  </tbody>\n",
              "</table>\n",
              "</div>"
            ],
            "text/plain": [
              "   target  ...  target_bool\n",
              "0       0  ...            0\n",
              "1       0  ...            0\n",
              "2       0  ...            0\n",
              "3       0  ...            0\n",
              "4       0  ...            0\n",
              "\n",
              "[5 rows x 7 columns]"
            ]
          },
          "metadata": {
            "tags": []
          },
          "execution_count": 8
        }
      ]
    },
    {
      "cell_type": "markdown",
      "metadata": {
        "id": "BKJHGJrik-6C",
        "colab_type": "text"
      },
      "source": [
        "##Data Cleaning"
      ]
    },
    {
      "cell_type": "code",
      "metadata": {
        "id": "OcTlm-TLlCGC",
        "colab_type": "code",
        "colab": {}
      },
      "source": [
        "sentiment140_df[\"text_lower\"] = sentiment140_df[\"text\"].str.lower()\n",
        "#sentiment140_df[\"text_lower\"]"
      ],
      "execution_count": 0,
      "outputs": []
    },
    {
      "cell_type": "code",
      "metadata": {
        "id": "sUsYnP4tsgr1",
        "colab_type": "code",
        "colab": {}
      },
      "source": [
        "sentiment140_df[\"text_punctuation\"] = sentiment140_df[\"text_lower\"].str.replace(\"[@.,-;:&?]\", \" \")\n",
        "#sentiment140_df[\"text_punctuation\"]"
      ],
      "execution_count": 0,
      "outputs": []
    },
    {
      "cell_type": "code",
      "metadata": {
        "id": "YMvtqJwymNSm",
        "colab_type": "code",
        "colab": {}
      },
      "source": [
        "def string_words(sentence , words):\n",
        "    sent = sentence\n",
        "    remove_list = words\n",
        "    translator = str.maketrans(\"[@.,-;:&?]\", ' '*len(\"[@.,-;:&?]\"))   # mapping of punctuation \n",
        "    word_list = (sent.translate(translator)).split()\n",
        "    m = ' '.join([i for i in word_list if i not in remove_list])\n",
        "    return m\n",
        "  "
      ],
      "execution_count": 0,
      "outputs": []
    },
    {
      "cell_type": "code",
      "metadata": {
        "id": "7HbuhGhCzdbS",
        "colab_type": "code",
        "colab": {}
      },
      "source": [
        "stops = stopwords.words(\"english\")\n",
        "\n",
        "sentiment140_df[\"text_stopwords\"] = sentiment140_df[\"text_punctuation\"].apply(lambda sentence : string_words(sentence, stops))\n",
        "#sentiment140_df[\"text_stopwords\"]"
      ],
      "execution_count": 0,
      "outputs": []
    },
    {
      "cell_type": "markdown",
      "metadata": {
        "id": "iPdfNaQK2IyK",
        "colab_type": "text"
      },
      "source": [
        "##TFID Vectorization"
      ]
    },
    {
      "cell_type": "code",
      "metadata": {
        "id": "FiKkV8312Qr-",
        "colab_type": "code",
        "outputId": "0e6fc883-e17d-413a-9f9a-029aa93859e9",
        "colab": {
          "base_uri": "https://localhost:8080/",
          "height": 833
        }
      },
      "source": [
        "#parameters\n",
        "max_df = 0.3\n",
        "min_df = 0.003 \n",
        "toxicity_threshold = 0.2\n",
        "n_gram = (1, 3)\n",
        "\n",
        "#processing\n",
        "texts = sentiment140_df[sentiment140_df['target'] > toxicity_threshold ]['text_stopwords']\n",
        "tfidf = TfidfVectorizer(min_df= numpy.int(min_df * texts.shape[0]), max_df=max_df, ngram_range=n_gram)\n",
        "features = tfidf.fit_transform(texts)\n",
        "vectorizer = pandas.DataFrame(\n",
        "    features.todense(),\n",
        "    columns=tfidf.get_feature_names()\n",
        ")\n",
        "print( \"column names are \" + str(vectorizer.columns.values), \" Number of column is \" + str (vectorizer.columns.shape))"
      ],
      "execution_count": 0,
      "outputs": [
        {
          "output_type": "stream",
          "text": [
            "column names are ['actually' 'add' 'afternoon' 'ah' 'album' 'almost' 'already' 'also'\n",
            " 'always' 'amazing' 'amp' 'another' 'anyone' 'anything' 'around' 'away'\n",
            " 'awesome' 'aww' 'baby' 'back' 'bad' 'beach' 'beautiful' 'bed' 'believe'\n",
            " 'best' 'better' 'big' 'birthday' 'bit' 'bit ly' 'blip' 'blip fm' 'blog'\n",
            " 'book' 'bought' 'boy' 'breakfast' 'btw' 'busy' 'buy' 'call' 'came' 'can'\n",
            " 'can wait' 'cant' 'cant wait' 'car' 'cause' 'check' 'coffee' 'com' 'come'\n",
            " 'coming' 'congrats' 'cool' 'could' 'course' 'crazy' 'cute' 'day' 'days'\n",
            " 'definitely' 'dinner' 'done' 'dont' 'early' 'eat' 'eating' 'end' 'enjoy'\n",
            " 'enjoying' 'enough' 'even' 'ever' 'every' 'everyone' 'everything'\n",
            " 'excited' 'facebook' 'family' 'fan' 'far' 'favorite' 'feel' 'feeling'\n",
            " 'finally' 'find' 'fine' 'finished' 'first' 'fm' 'follow' 'followers'\n",
            " 'followfriday' 'following' 'food' 'forward' 'found' 'free' 'friday'\n",
            " 'friend' 'friends' 'full' 'fun' 'funny' 'game' 'get' 'getting'\n",
            " 'getting ready' 'girl' 'girls' 'give' 'glad' 'go' 'god' 'going' 'gonna'\n",
            " 'good' 'good day' 'good luck' 'good morning' 'good night' 'goodnight'\n",
            " 'got' 'gotta' 'great' 'great day' 'gt' 'guess' 'guy' 'guys' 'ha' 'haha'\n",
            " 'hahaha' 'hair' 'happy' 'happy birthday' 'hard' 'hate' 'he' 'head' 'hear'\n",
            " 'hehe' 'hello' 'help' 'hey' 'hi' 'home' 'hope' 'hopefully' 'hot' 'hour'\n",
            " 'hours' 'house' 'http' 'http bit' 'http bit ly' 'http blip'\n",
            " 'http blip fm' 'http plurk' 'http plurk com' 'http tinyurl'\n",
            " 'http tinyurl com' 'http twitpic' 'http twitpic com' 'http www' 'idea'\n",
            " 'ill' 'im' 'it' 'job' 'keep' 'kids' 'kind' 'kinda' 'know' 'last'\n",
            " 'last night' 'late' 'later' 'least' 'left' 'let' 'let know' 'life' 'like'\n",
            " 'listening' 'little' 'live' 'll' 'lmao' 'lol' 'long' 'look' 'looking'\n",
            " 'looking forward' 'looks' 'lot' 'lots' 'love' 'loved' 'lovely' 'loves'\n",
            " 'loving' 'lt' 'luck' 'lunch' 'ly' 'made' 'make' 'makes' 'making' 'man'\n",
            " 'many' 'may' 'maybe' 'me' 'mean' 'meet' 'might' 'mileycyrus' 'mind'\n",
            " 'mine' 'miss' 'missed' 'mom' 'monday' 'morning' 'movie' 'much' 'music'\n",
            " 'must' 'name' 'need' 'never' 'new' 'next' 'nice' 'night' 'nothing' 'now'\n",
            " 'oh' 'ok' 'okay' 'old' 'omg' 'one' 'outside' 'part' 'party' 'pay'\n",
            " 'people' 'perfect' 'phone' 'pic' 'pics' 'picture' 'place' 'play'\n",
            " 'playing' 'please' 'plurk' 'plurk com' 'post' 'pretty' 'probably' 'put'\n",
            " 'quite' 'quot' 'rain' 're' 'read' 'reading' 'ready' 'real' 'really'\n",
            " 'remember' 'rest' 'right' 'rock' 'room' 'run' 'said' 'saturday' 'saw'\n",
            " 'say' 'says' 'school' 'see' 'seeing' 'seen' 'send' 'shopping' 'show'\n",
            " 'shower' 'since' 'sleep' 'smile' 'someone' 'something' 'song' 'soon'\n",
            " 'sooo' 'sorry' 'sounds' 'st' 'start' 'stay' 'still' 'stop' 'stuff'\n",
            " 'summer' 'sun' 'sunday' 'sunny' 'super' 'sure' 'sweet' 'take' 'taking'\n",
            " 'talk' 'talking' 'tell' 'th' 'thank' 'thanks' 'that' 'thats' 'there'\n",
            " 'they' 'they re' 'thing' 'things' 'think' 'thinking' 'tho' 'though'\n",
            " 'thought' 'till' 'time' 'times' 'tinyurl' 'tinyurl com' 'tired' 'today'\n",
            " 'tomorrow' 'tonight' 'too' 'totally' 'train' 'trip' 'true' 'try' 'trying'\n",
            " 'tv' 'tweet' 'tweets' 'twitpic' 'twitpic com' 'twitter' 'two' 'up' 'ur'\n",
            " 'us' 'use' 'using' 've' 'video' 'wait' 'waiting' 'wanna' 'want' 'watch'\n",
            " 'watched' 'watching' 'way' 'we' 'we re' 'weather' 'week' 'weekend'\n",
            " 'welcome' 'well' 'went' 'what' 'whole' 'win' 'wish' 'woke' 'wonderful'\n",
            " 'work' 'working' 'world' 'would' 'wow' 'www' 'xd' 'xx' 'ya' 'yay' 'yeah'\n",
            " 'year' 'years' 'yes' 'yesterday' 'yet' 'you']  Number of column is (408,)\n"
          ],
          "name": "stdout"
        }
      ]
    },
    {
      "cell_type": "markdown",
      "metadata": {
        "id": "MD4pkcN04LHx",
        "colab_type": "text"
      },
      "source": [
        "## Data Splitting"
      ]
    },
    {
      "cell_type": "code",
      "metadata": {
        "id": "_pNdXqM04NXe",
        "colab_type": "code",
        "colab": {}
      },
      "source": [
        "X = tfidf.transform(sentiment140_df[\"text_stopwords\"])\n",
        "y=  sentiment140_df[\"target_bool\"]\n",
        "x_train, x_test, y_train, y_test = train_test_split(X, y, test_size = 0.05, random_state =42)"
      ],
      "execution_count": 0,
      "outputs": []
    },
    {
      "cell_type": "markdown",
      "metadata": {
        "id": "pOZ0FFoT5Af3",
        "colab_type": "text"
      },
      "source": [
        "## Model Implementation"
      ]
    },
    {
      "cell_type": "code",
      "metadata": {
        "id": "__wGG3up4jwQ",
        "colab_type": "code",
        "outputId": "1667ef1a-0a7e-4ab2-ed3a-71614c3bb989",
        "colab": {
          "base_uri": "https://localhost:8080/",
          "height": 357
        }
      },
      "source": [
        "model_1 = LogisticRegression(C=2)\n",
        "model_1.fit(x_train, y_train)\n",
        "predictions = model_1.predict_proba(x_test)\n",
        "predictions = pandas.DataFrame(predictions)\n",
        "\n",
        "# cm = metrics.confusion_matrix(yTest, predictions)\n",
        "# print(cm)\n",
        "# average_precision = average_precision_score(yTest, predictions)\n",
        "# print('Average precision-recall score: {0:0.2f}'.format(\n",
        "#       average_precision))\n",
        "\n",
        "fpr, tpr, thresholds = roc_curve(y_test, predictions[1])\n",
        "auc = roc_auc_score(y_test, predictions[1])\n",
        "print('AUC: %.3f' % auc)\n",
        "# plot no skill\n",
        "plt.plot([0, 1], [0, 1], linestyle='--')\n",
        "# plot the roc curve for the model\n",
        "plt.plot(fpr, tpr, marker='.')\n",
        "# show the plot\n",
        "plt.show()\n",
        "classification_report(y_test, predictions[1]>0.5)"
      ],
      "execution_count": 0,
      "outputs": [
        {
          "output_type": "stream",
          "text": [
            "/usr/local/lib/python3.6/dist-packages/sklearn/linear_model/logistic.py:432: FutureWarning: Default solver will be changed to 'lbfgs' in 0.22. Specify a solver to silence this warning.\n",
            "  FutureWarning)\n"
          ],
          "name": "stderr"
        },
        {
          "output_type": "stream",
          "text": [
            "AUC: 0.769\n"
          ],
          "name": "stdout"
        },
        {
          "output_type": "display_data",
          "data": {
            "image/png": "[encoded data removed]",
            "text/plain": [
              "<Figure size 432x288 with 1 Axes>"
            ]
          },
          "metadata": {
            "tags": []
          }
        },
        {
          "output_type": "execute_result",
          "data": {
            "text/plain": [
              "'              precision    recall  f1-score   support\\n\\n           0       0.68      0.74      0.71     39999\\n           1       0.71      0.66      0.68     40001\\n\\n    accuracy                           0.70     80000\\n   macro avg       0.70      0.70      0.70     80000\\nweighted avg       0.70      0.70      0.70     80000\\n'"
            ]
          },
          "metadata": {
            "tags": []
          },
          "execution_count": 22
        }
      ]
    }
  ]
}